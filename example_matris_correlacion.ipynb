{
 "cells": [
  {
   "cell_type": "code",
   "execution_count": 73,
   "outputs": [],
   "source": [
    "import decimal\n",
    "import xmltodict\n",
    "import pandas as pd\n",
    "import numpy as np\n",
    "import json\n",
    "import os"
   ],
   "metadata": {
    "collapsed": false,
    "ExecuteTime": {
     "end_time": "2023-06-17T04:40:31.781927100Z",
     "start_time": "2023-06-17T04:40:31.766921200Z"
    }
   }
  },
  {
   "cell_type": "code",
   "execution_count": 74,
   "outputs": [],
   "source": [
    "os.getcwd()\n",
    "os.chdir('D:\\\\jeiner\\\\jeinercastro\\\\datascience\\\\laboratorio1\\\\data')\n",
    "mifact = 'D:\\\\jeiner\\\\jeinercastro\\\\datascience\\\\laboratorio1\\\\data\\\\fact.json'\n",
    "f = open( mifact , \"rb\" )\n",
    "jsonObjectFActuas = json.load(f)"
   ],
   "metadata": {
    "collapsed": false,
    "ExecuteTime": {
     "end_time": "2023-06-17T04:40:38.000226500Z",
     "start_time": "2023-06-17T04:40:37.979884400Z"
    }
   }
  },
  {
   "cell_type": "code",
   "execution_count": 75,
   "outputs": [
    {
     "name": "stdout",
     "output_type": "stream",
     "text": [
      "[]\n"
     ]
    }
   ],
   "source": [
    "items, cuotas = jsonObjectFActuas['items'] , []\n",
    "subtotal, igv, valor_unit_item, monto_pendiente, total_cuotas = 0.00, 0.00, [], None, None\n",
    "\n",
    "for i in items:\n",
    "    price_item = round(float(i['PRC_VTA_UNIT_ITEM']), 2)\n",
    "    i['PRC_VTA_UNIT_ITEM'] = price_item\n",
    "    subtotal = round(subtotal + float(i['MNT_BRUTO']), 2)\n",
    "    igv = round(igv + float(i['MNT_IGV_ITEM']), 2)\n",
    "\n",
    "\n",
    "if jsonObjectFActuas.get('cuotas', None) is not None:\n",
    "    cuotas = jsonObjectFActuas['cuotas']\n",
    "    monto_pendiente = float(jsonObjectFActuas['MNT_PENDIENTE'])\n",
    "    total_cuotas = 0.00\n",
    "    for a in cuotas:\n",
    "        total_cuotas = total_cuotas + float(a['MONTO_CUOTA'])\n",
    "\n",
    "jsonObjectFActuas['items'] = items\n",
    "total_fact = subtotal + igv\n",
    "print(valor_unit_item)\n"
   ],
   "metadata": {
    "collapsed": false,
    "ExecuteTime": {
     "end_time": "2023-06-17T04:40:40.879703200Z",
     "start_time": "2023-06-17T04:40:40.863328200Z"
    }
   }
  },
  {
   "cell_type": "code",
   "execution_count": 76,
   "outputs": [
    {
     "name": "stdout",
     "output_type": "stream",
     "text": [
      "631.2\n"
     ]
    }
   ],
   "source": [
    "monto_pendiente = [ float(vas['MNT_IGV_ITEM']) for vas in jsonObjectFActuas['items']]\n",
    "monto_pendiente =round( sum(monto_pendiente), 10)\n",
    "print(monto_pendiente)"
   ],
   "metadata": {
    "collapsed": false,
    "ExecuteTime": {
     "end_time": "2023-06-17T04:40:45.129198800Z",
     "start_time": "2023-06-17T04:40:45.103138800Z"
    }
   }
  },
  {
   "cell_type": "code",
   "execution_count": 77,
   "outputs": [
    {
     "name": "stdout",
     "output_type": "stream",
     "text": [
      "[]\n"
     ]
    }
   ],
   "source": [
    "print(valor_unit_item)"
   ],
   "metadata": {
    "collapsed": false,
    "ExecuteTime": {
     "end_time": "2023-06-17T04:40:47.940285300Z",
     "start_time": "2023-06-17T04:40:47.919152400Z"
    }
   }
  },
  {
   "cell_type": "code",
   "execution_count": 78,
   "outputs": [
    {
     "data": {
      "text/plain": "      tipo    total subtotal     igv  monto_pendiente\n0    orden  4136.07  3505.14  601.93           631.20\n1  factura  4136.01  3504.81   631.2          4136.04",
      "text/html": "<div>\n<style scoped>\n    .dataframe tbody tr th:only-of-type {\n        vertical-align: middle;\n    }\n\n    .dataframe tbody tr th {\n        vertical-align: top;\n    }\n\n    .dataframe thead th {\n        text-align: right;\n    }\n</style>\n<table border=\"1\" class=\"dataframe\">\n  <thead>\n    <tr style=\"text-align: right;\">\n      <th></th>\n      <th>tipo</th>\n      <th>total</th>\n      <th>subtotal</th>\n      <th>igv</th>\n      <th>monto_pendiente</th>\n    </tr>\n  </thead>\n  <tbody>\n    <tr>\n      <th>0</th>\n      <td>orden</td>\n      <td>4136.07</td>\n      <td>3505.14</td>\n      <td>601.93</td>\n      <td>631.20</td>\n    </tr>\n    <tr>\n      <th>1</th>\n      <td>factura</td>\n      <td>4136.01</td>\n      <td>3504.81</td>\n      <td>631.2</td>\n      <td>4136.04</td>\n    </tr>\n  </tbody>\n</table>\n</div>"
     },
     "execution_count": 78,
     "metadata": {},
     "output_type": "execute_result"
    }
   ],
   "source": [
    "\n",
    "data = {'tipo': ['orden', 'factura'],\n",
    "           'total':[jsonObjectFActuas['MNT_TOT'], total_fact],\n",
    "           'subtotal': [jsonObjectFActuas['MNT_TOT_GRAVADO'], subtotal],\n",
    "           'igv':[jsonObjectFActuas['MNT_TOT_TRIB_IGV'], igv],\n",
    "           'monto_pendiente':[monto_pendiente, total_cuotas]}\n",
    "\n",
    "df_result = pd.DataFrame(data)\n",
    "df_result.head()\n"
   ],
   "metadata": {
    "collapsed": false,
    "ExecuteTime": {
     "end_time": "2023-06-17T04:40:50.520228600Z",
     "start_time": "2023-06-17T04:40:50.479055300Z"
    }
   }
  },
  {
   "cell_type": "code",
   "execution_count": null,
   "outputs": [],
   "source": [
    "# output\n",
    "with open(\"fact.json\", 'w') as f:\n",
    "    json.dump(jsonObjectFActuas, f)\n",
    "\n",
    "# Closing file\n",
    "f.close()"
   ],
   "metadata": {
    "collapsed": false
   }
  },
  {
   "cell_type": "code",
   "execution_count": null,
   "outputs": [],
   "source": [],
   "metadata": {
    "collapsed": false
   }
  }
 ],
 "metadata": {
  "kernelspec": {
   "display_name": "Python 3",
   "language": "python",
   "name": "python3"
  },
  "language_info": {
   "codemirror_mode": {
    "name": "ipython",
    "version": 2
   },
   "file_extension": ".py",
   "mimetype": "text/x-python",
   "name": "python",
   "nbconvert_exporter": "python",
   "pygments_lexer": "ipython2",
   "version": "2.7.6"
  }
 },
 "nbformat": 4,
 "nbformat_minor": 0
}
