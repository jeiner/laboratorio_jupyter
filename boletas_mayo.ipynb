{
 "cells": [
  {
   "cell_type": "code",
   "execution_count": 3,
   "metadata": {
    "collapsed": true,
    "ExecuteTime": {
     "end_time": "2023-06-16T22:12:05.356588Z",
     "start_time": "2023-06-16T22:12:05.329381300Z"
    }
   },
   "outputs": [],
   "source": [
    "import xmltodict\n",
    "import pandas as pd\n",
    "import numpy as np\n",
    "import json\n",
    "import os"
   ]
  },
  {
   "cell_type": "code",
   "execution_count": 4,
   "outputs": [],
   "source": [
    "os.getcwd()\n",
    "os.chdir('D:\\\\jeiner\\\\jeinercastro\\\\datascience\\\\laboratorio1\\\\data')"
   ],
   "metadata": {
    "collapsed": false,
    "ExecuteTime": {
     "end_time": "2023-06-16T22:12:07.865560100Z",
     "start_time": "2023-06-16T22:12:07.841644400Z"
    }
   }
  },
  {
   "cell_type": "code",
   "execution_count": 4,
   "outputs": [],
   "source": [
    "boletas = 'D:\\\\jeiner\\\\jeinercastro\\\\datascience\\\\laboratorio1\\\\data\\\\boletas_mayo_oea.json'\n",
    "facturas = 'D:\\\\jeiner\\\\jeinercastro\\\\datascience\\\\laboratorio1\\\\data\\\\facturas_mayo.json'"
   ],
   "metadata": {
    "collapsed": false,
    "ExecuteTime": {
     "end_time": "2023-06-12T06:04:02.179947Z",
     "start_time": "2023-06-12T06:04:02.153513100Z"
    }
   }
  },
  {
   "cell_type": "code",
   "execution_count": 2,
   "outputs": [
    {
     "ename": "NameError",
     "evalue": "name 'boletas' is not defined",
     "output_type": "error",
     "traceback": [
      "\u001B[1;31m---------------------------------------------------------------------------\u001B[0m",
      "\u001B[1;31mNameError\u001B[0m                                 Traceback (most recent call last)",
      "Cell \u001B[1;32mIn[2], line 1\u001B[0m\n\u001B[1;32m----> 1\u001B[0m f \u001B[38;5;241m=\u001B[39m \u001B[38;5;28mopen\u001B[39m( \u001B[43mboletas\u001B[49m , \u001B[38;5;124m\"\u001B[39m\u001B[38;5;124mrb\u001B[39m\u001B[38;5;124m\"\u001B[39m )\n\u001B[0;32m      2\u001B[0m jsonObjectBoletas \u001B[38;5;241m=\u001B[39m json\u001B[38;5;241m.\u001B[39mload(f)\n",
      "\u001B[1;31mNameError\u001B[0m: name 'boletas' is not defined"
     ]
    }
   ],
   "source": [
    "f = open( boletas , \"rb\" )\n",
    "jsonObjectBoletas = json.load(f)\n"
   ],
   "metadata": {
    "collapsed": false,
    "ExecuteTime": {
     "end_time": "2023-06-16T22:12:01.882103700Z",
     "start_time": "2023-06-16T22:12:01.842129200Z"
    }
   }
  },
  {
   "cell_type": "code",
   "execution_count": 1,
   "outputs": [
    {
     "ename": "NameError",
     "evalue": "name 'jsonObjectBoletas' is not defined",
     "output_type": "error",
     "traceback": [
      "\u001B[1;31m---------------------------------------------------------------------------\u001B[0m",
      "\u001B[1;31mNameError\u001B[0m                                 Traceback (most recent call last)",
      "Cell \u001B[1;32mIn[1], line 2\u001B[0m\n\u001B[0;32m      1\u001B[0m data \u001B[38;5;241m=\u001B[39m []\n\u001B[1;32m----> 2\u001B[0m \u001B[38;5;28;01mfor\u001B[39;00m item \u001B[38;5;129;01min\u001B[39;00m \u001B[43mjsonObjectBoletas\u001B[49m:\n\u001B[0;32m      3\u001B[0m     jsonload \u001B[38;5;241m=\u001B[39m json\u001B[38;5;241m.\u001B[39mloads(item[\u001B[38;5;124m'\u001B[39m\u001B[38;5;124mbol_response\u001B[39m\u001B[38;5;124m'\u001B[39m])\n\u001B[0;32m      4\u001B[0m     dictionary \u001B[38;5;241m=\u001B[39m xmltodict\u001B[38;5;241m.\u001B[39mparse(jsonload[\u001B[38;5;124m'\u001B[39m\u001B[38;5;124mxml\u001B[39m\u001B[38;5;124m'\u001B[39m])\n",
      "\u001B[1;31mNameError\u001B[0m: name 'jsonObjectBoletas' is not defined"
     ]
    }
   ],
   "source": [
    "data = []\n",
    "for item in jsonObjectBoletas:\n",
    "    jsonload = json.loads(item['bol_response'])\n",
    "    dictionary = xmltodict.parse(jsonload['xml'])\n",
    "    print(dictionary)\n",
    "    break\n",
    "    total = str(dictionary['Invoice']['cac:InvoiceLine']['cac:PricingReference']['cac:AlternativeConditionPrice']['cbc:PriceAmount']['#text'])\n",
    "    total = int(total)\n",
    "    sutotal = round(total / (1 + 0.18), 2)\n",
    "\n",
    "    igv = round(total - sutotal, 2)\n",
    "    sutotal = total - igv\n",
    "\n",
    "    num_correlativo = item['bol_correlativo']\n",
    "    dni = dictionary['Invoice']['cac:AccountingCustomerParty']['cac:Party']['cac:PartyIdentification']['cbc:ID']['#text']\n",
    "    tipo_doc = dictionary['Invoice']['cac:AccountingCustomerParty']['cac:Party']['cac:PartyIdentification']['cbc:ID']['@schemeID']\n",
    "\n",
    "    descripcion = dictionary['Invoice']['cac:InvoiceLine']['cac:Item']['cbc:Description']\n",
    "    course_code =  dictionary['Invoice']['cac:InvoiceLine']['cac:Item']['cac:SellersItemIdentification']['cbc:ID']\n",
    "\n",
    "    leyenda = dictionary['Invoice']['cbc:Note']['#text']\n",
    "    nombres = dictionary['Invoice']['cac:AccountingCustomerParty']['cac:Party']['cac:PartyLegalEntity']['cbc:RegistrationName']\n",
    "\n",
    "    description_sunat = ''\n",
    "    if jsonload['sunatResponse'].get('cdrResponse', None) is not None:\n",
    "        description_sunat = jsonload['sunatResponse']['cdrResponse']['description']\n",
    "    elif jsonload['sunatResponse'].get('error'):\n",
    "        description_sunat = jsonload['sunatResponse']['error']['message']\n",
    "    obj = {\n",
    "        'diplomado_code': course_code,\n",
    "        'cliente': nombres,\n",
    "        'dni': dni,\n",
    "        'serie': 'B001',\n",
    "        'correlativo': num_correlativo,\n",
    "        'total': total,\n",
    "        'subtotal': sutotal,\n",
    "        'igv': igv,\n",
    "        'sunat_description': description_sunat\n",
    "    }\n",
    "    data.append(obj)\n",
    "\n",
    "\n"
   ],
   "metadata": {
    "collapsed": false,
    "ExecuteTime": {
     "end_time": "2023-06-16T22:11:52.098122Z",
     "start_time": "2023-06-16T22:11:51.438498400Z"
    }
   }
  },
  {
   "cell_type": "code",
   "execution_count": 32,
   "outputs": [
    {
     "data": {
      "text/plain": "  diplomado_code                             cliente       dni serie  \\\n0        CAA0096          ROSA YSABEL MESONES ZUÑIGA  41658603  B001   \n1        CAA0099    ALEXANDRA ROXANA RODRIGUEZ RAMOS  44628593  B001   \n2        CAA0107      OLINDA AZUCENA YGLESIAS CUENCA  15354786  B001   \n3        CAA0114      MAGALY MAGDALENA MENDOZA JULCA  44186427  B001   \n4        CAA0117  SOLEDAD MARGARITA ESPINOZA ARTEAGA  45155433  B001   \n\n   correlativo  total  subtotal    igv  \\\n0        12298    150    127.12  22.88   \n1        12299    150    127.12  22.88   \n2        12300    150    127.12  22.88   \n3        12301    170    144.07  25.93   \n4        12302     50     42.37   7.63   \n\n                                   sunat_description  \n0  La Boleta de Venta numero B001-12298, ha sido ...  \n1  La Boleta de Venta numero B001-12299, ha sido ...  \n2  La Boleta de Venta numero B001-12300, ha sido ...  \n3  La Boleta de Venta numero B001-12301, ha sido ...  \n4  La Boleta de Venta numero B001-12302, ha sido ...  ",
      "text/html": "<div>\n<style scoped>\n    .dataframe tbody tr th:only-of-type {\n        vertical-align: middle;\n    }\n\n    .dataframe tbody tr th {\n        vertical-align: top;\n    }\n\n    .dataframe thead th {\n        text-align: right;\n    }\n</style>\n<table border=\"1\" class=\"dataframe\">\n  <thead>\n    <tr style=\"text-align: right;\">\n      <th></th>\n      <th>diplomado_code</th>\n      <th>cliente</th>\n      <th>dni</th>\n      <th>serie</th>\n      <th>correlativo</th>\n      <th>total</th>\n      <th>subtotal</th>\n      <th>igv</th>\n      <th>sunat_description</th>\n    </tr>\n  </thead>\n  <tbody>\n    <tr>\n      <th>0</th>\n      <td>CAA0096</td>\n      <td>ROSA YSABEL MESONES ZUÑIGA</td>\n      <td>41658603</td>\n      <td>B001</td>\n      <td>12298</td>\n      <td>150</td>\n      <td>127.12</td>\n      <td>22.88</td>\n      <td>La Boleta de Venta numero B001-12298, ha sido ...</td>\n    </tr>\n    <tr>\n      <th>1</th>\n      <td>CAA0099</td>\n      <td>ALEXANDRA ROXANA RODRIGUEZ RAMOS</td>\n      <td>44628593</td>\n      <td>B001</td>\n      <td>12299</td>\n      <td>150</td>\n      <td>127.12</td>\n      <td>22.88</td>\n      <td>La Boleta de Venta numero B001-12299, ha sido ...</td>\n    </tr>\n    <tr>\n      <th>2</th>\n      <td>CAA0107</td>\n      <td>OLINDA AZUCENA YGLESIAS CUENCA</td>\n      <td>15354786</td>\n      <td>B001</td>\n      <td>12300</td>\n      <td>150</td>\n      <td>127.12</td>\n      <td>22.88</td>\n      <td>La Boleta de Venta numero B001-12300, ha sido ...</td>\n    </tr>\n    <tr>\n      <th>3</th>\n      <td>CAA0114</td>\n      <td>MAGALY MAGDALENA MENDOZA JULCA</td>\n      <td>44186427</td>\n      <td>B001</td>\n      <td>12301</td>\n      <td>170</td>\n      <td>144.07</td>\n      <td>25.93</td>\n      <td>La Boleta de Venta numero B001-12301, ha sido ...</td>\n    </tr>\n    <tr>\n      <th>4</th>\n      <td>CAA0117</td>\n      <td>SOLEDAD MARGARITA ESPINOZA ARTEAGA</td>\n      <td>45155433</td>\n      <td>B001</td>\n      <td>12302</td>\n      <td>50</td>\n      <td>42.37</td>\n      <td>7.63</td>\n      <td>La Boleta de Venta numero B001-12302, ha sido ...</td>\n    </tr>\n  </tbody>\n</table>\n</div>"
     },
     "execution_count": 32,
     "metadata": {},
     "output_type": "execute_result"
    }
   ],
   "source": [
    "df = pd.DataFrame(data)\n",
    "df.head()"
   ],
   "metadata": {
    "collapsed": false,
    "ExecuteTime": {
     "end_time": "2023-06-12T06:21:59.887825900Z",
     "start_time": "2023-06-12T06:21:59.832877800Z"
    }
   }
  },
  {
   "cell_type": "code",
   "execution_count": 33,
   "outputs": [],
   "source": [
    "df.to_csv('D:\\\\jeiner\\\\jeinercastro\\\\datascience\\\\laboratorio1\\\\data\\\\boletas_3_mayo_oea.csv')\n"
   ],
   "metadata": {
    "collapsed": false,
    "ExecuteTime": {
     "end_time": "2023-06-12T06:22:11.808108300Z",
     "start_time": "2023-06-12T06:22:11.779257100Z"
    }
   }
  },
  {
   "cell_type": "code",
   "execution_count": null,
   "outputs": [],
   "source": [],
   "metadata": {
    "collapsed": false
   }
  },
  {
   "cell_type": "code",
   "execution_count": null,
   "outputs": [],
   "source": [],
   "metadata": {
    "collapsed": false
   }
  },
  {
   "cell_type": "code",
   "execution_count": null,
   "outputs": [],
   "source": [],
   "metadata": {
    "collapsed": false
   }
  },
  {
   "cell_type": "code",
   "execution_count": null,
   "outputs": [],
   "source": [],
   "metadata": {
    "collapsed": false
   }
  }
 ],
 "metadata": {
  "kernelspec": {
   "display_name": "Python 3",
   "language": "python",
   "name": "python3"
  },
  "language_info": {
   "codemirror_mode": {
    "name": "ipython",
    "version": 2
   },
   "file_extension": ".py",
   "mimetype": "text/x-python",
   "name": "python",
   "nbconvert_exporter": "python",
   "pygments_lexer": "ipython2",
   "version": "2.7.6"
  }
 },
 "nbformat": 4,
 "nbformat_minor": 0
}
