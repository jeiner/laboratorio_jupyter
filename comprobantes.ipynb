{
 "cells": [
  {
   "cell_type": "code",
   "execution_count": 20,
   "metadata": {
    "collapsed": true,
    "ExecuteTime": {
     "end_time": "2023-06-20T05:12:49.180952100Z",
     "start_time": "2023-06-20T05:12:49.171956900Z"
    }
   },
   "outputs": [],
   "source": [
    "import xmltodict\n",
    "import pandas as pd\n",
    "import numpy as np\n",
    "import json\n",
    "import os"
   ]
  },
  {
   "cell_type": "code",
   "execution_count": 26,
   "outputs": [],
   "source": [
    "os.getcwd()\n",
    "os.chdir('D:\\\\jeiner\\\\jeinercastro\\\\datascience\\\\laboratorio1\\\\data')"
   ],
   "metadata": {
    "collapsed": false,
    "ExecuteTime": {
     "end_time": "2023-06-20T05:18:07.469190600Z",
     "start_time": "2023-06-20T05:18:07.448188500Z"
    }
   }
  },
  {
   "cell_type": "code",
   "execution_count": 27,
   "outputs": [],
   "source": [
    "boletas = 'D:\\\\jeiner\\\\jeinercastro\\\\datascience\\\\laboratorio1\\\\data\\\\boletas_mayo_oficial.json'\n",
    "facturas = 'D:\\\\jeiner\\\\jeinercastro\\\\datascience\\\\laboratorio1\\\\data\\\\factura_mayo_2023_oficial.json'"
   ],
   "metadata": {
    "collapsed": false,
    "ExecuteTime": {
     "end_time": "2023-06-20T05:18:09.348000900Z",
     "start_time": "2023-06-20T05:18:09.338006700Z"
    }
   }
  },
  {
   "cell_type": "code",
   "execution_count": 28,
   "outputs": [],
   "source": [
    "f = open(boletas , \"rb\" )\n",
    "jsonObjectFActuas = json.load(f)\n"
   ],
   "metadata": {
    "collapsed": false,
    "ExecuteTime": {
     "end_time": "2023-06-20T05:18:11.675916900Z",
     "start_time": "2023-06-20T05:18:11.483029300Z"
    }
   }
  },
  {
   "cell_type": "code",
   "execution_count": 31,
   "outputs": [],
   "source": [
    "data = []\n",
    "for item in jsonObjectFActuas:\n",
    "    jsonload = json.loads(item['bol_response'])\n",
    "    dictionary = xmltodict.parse(jsonload['xml'])\n",
    "    total = str(dictionary['Invoice']['cac:InvoiceLine']['cac:PricingReference']['cac:AlternativeConditionPrice']['cbc:PriceAmount']['#text'])\n",
    "    total = int(total)\n",
    "    gravado = round(total / (1 + 0.18), 2)\n",
    "    igv = round(total - sutotal, 2)\n",
    "    sutotal = total - igv\n",
    "\n",
    "    num_correlativo = item['bol_correlativo']\n",
    "    serie = item['bol_serie']\n",
    "    dni = dictionary['Invoice']['cac:AccountingCustomerParty']['cac:Party']['cac:PartyIdentification']['cbc:ID']['#text']\n",
    "    tipo_doc = dictionary['Invoice']['cac:AccountingCustomerParty']['cac:Party']['cac:PartyIdentification']['cbc:ID']['@schemeID']\n",
    "\n",
    "    descripcion_producto = dictionary['Invoice']['cac:InvoiceLine']['cac:Item']['cbc:Description']\n",
    "    codigo_producto =  dictionary['Invoice']['cac:InvoiceLine']['cac:Item']['cac:SellersItemIdentification']['cbc:ID']\n",
    "\n",
    "    leyenda = dictionary['Invoice']['cbc:Note']['#text']\n",
    "    nombres = dictionary['Invoice']['cac:AccountingCustomerParty']['cac:Party']['cac:PartyLegalEntity']['cbc:RegistrationName']\n",
    "    fecha_emision =  dictionary['Invoice']['cbc:IssueDate']\n",
    "\n",
    "    description_sunat = ''\n",
    "    if jsonload['sunatResponse'].get('cdrResponse', None) is not None:\n",
    "        description_sunat = jsonload['sunatResponse']['cdrResponse']['description']\n",
    "    elif jsonload['sunatResponse'].get('error'):\n",
    "        description_sunat = jsonload['sunatResponse']['error']['message']\n",
    "\n",
    "    COMPANY_RUC='20545280605'\n",
    "    COMPANY_RZSOCIAL='ORGANIZACION EDUCATIVA AMERICANA S.A.C.'\n",
    "    COMAPANY_N_COMERCIAL='OEA Educación'\n",
    "    COMAPANY_ADDRESS='Av. la Marina 4to Piso Nro. 2529, San Miguel, Lima - Perú'\n",
    "    COMAPANY_DEPARTAMENTO='OEA LIMA'\n",
    "    COMAPANY_PROVINCIA='OEA LIMA'\n",
    "    COMAPANY_DISTRITO='OEA SAN MIGUEL'\n",
    "    COMAPANY_UBIGEO='150101'\n",
    "    COD_TIP_NIF_EMIS='6'\n",
    "    CURRENCY_MONEY='PEN'\n",
    "    token = ''\n",
    "\n",
    "    request_body = {\n",
    "        \"TOKEN\": token,\n",
    "        \"items\": [\n",
    "            {\n",
    "                \"COD_ITEM\": codigo_producto,\n",
    "                \"MNT_BRUTO\": gravado,\n",
    "                \"MNT_PV_ITEM\": gravado,\n",
    "                \"MNT_IGV_ITEM\": igv,\n",
    "                \"POR_IGV_ITEM\": 18,\n",
    "                \"VAL_VTA_ITEM\": gravado,\n",
    "                \"COD_UNID_ITEM\": \"NIU\",\n",
    "                \"TXT_DESC_ITEM\": descripcion_producto,\n",
    "                \"VAL_UNIT_ITEM\": gravado,\n",
    "                \"CANT_UNID_ITEM\": 1,\n",
    "                \"COD_TIP_PRC_VTA\": \"01\",\n",
    "                \"COD_TRIB_IGV_ITEM\": \"1000\",\n",
    "                \"PRC_VTA_UNIT_ITEM\": total,\n",
    "                \"COD_TIP_AFECT_IGV_ITEM\": 10\n",
    "            }\n",
    "        ],\n",
    "        \"COD_MND\": CURRENCY_MONEY,\n",
    "        \"MNT_TOT\": total,\n",
    "        \"FEC_EMIS\": fecha_emision,\n",
    "        \"COD_TIP_CPE\": \"03\",\n",
    "        \"RETORNA_PDF\": \"true\",\n",
    "        \"COD_UBI_EMIS\": COMAPANY_UBIGEO,\n",
    "        \"NUM_NIF_EMIS\": COMPANY_RUC,\n",
    "        \"NUM_NIF_RECP\": dni,\n",
    "        \"TXT_VERS_UBL\": \"2.1\",\n",
    "        \"COD_FORM_IMPR\": \"001\",\n",
    "        \"NUM_CORRE_CPE\":'',\n",
    "        \"NUM_SERIE_CPE\":'',\n",
    "        \"COD_ANEXO_EMIS\": \"0000\",\n",
    "        \"COD_PRCD_CARGA\": \"001\",\n",
    "        \"ENVIAR_A_SUNAT\": \"true\",\n",
    "        \"NOM_COMER_EMIS\": COMAPANY_N_COMERCIAL,\n",
    "        \"MNT_TOT_GRAVADO\": gravado,\n",
    "        \"RETORNA_XML_CDR\": \"true\",\n",
    "        \"COD_TIP_NIF_EMIS\": COD_TIP_NIF_EMIS,\n",
    "        \"COD_TIP_NIF_RECP\": tipo_doc,\n",
    "        \"MNT_TOT_TRIB_IGV\": igv,\n",
    "        \"NOM_RZN_SOC_EMIS\": COMPANY_RZSOCIAL,\n",
    "        \"NOM_RZN_SOC_RECP\": nombres,\n",
    "        \"COD_TIP_OPE_SUNAT\": \"0101\",\n",
    "        \"RETORNA_XML_ENVIO\": \"true\",\n",
    "        \"TXT_DMCL_FISC_EMIS\": COMAPANY_ADDRESS,\n",
    "        \"TXT_DMCL_FISC_RECEP\": 'sin descripcion',\n",
    "        \"TXT_VERS_ESTRUCT_UBL\": \"2.0\"\n",
    "    }\n",
    "\n",
    "\n",
    "    obj = {\n",
    "        'serie': serie,\n",
    "        'correlativo': num_correlativo,\n",
    "        'fecha_emision': fecha_emision,\n",
    "        'cliente': nombres,\n",
    "        'dni': dni,\n",
    "        'tipo_doc': item['tipo_doc'],\n",
    "        'total': total,\n",
    "        'subtotal': sutotal,\n",
    "        'igv': igv,\n",
    "        'type_sales': item['type_sales'],\n",
    "        'diplomado_name': item['courses_name'],\n",
    "        'centro_costo': item['centro_costo'],\n",
    "        'sunat_description': description_sunat\n",
    "    }\n",
    "    data.append(obj)\n",
    "\n"
   ],
   "metadata": {
    "collapsed": false,
    "ExecuteTime": {
     "end_time": "2023-06-20T05:44:14.367207400Z",
     "start_time": "2023-06-20T05:44:13.046721800Z"
    }
   }
  },
  {
   "cell_type": "code",
   "execution_count": 30,
   "outputs": [
    {
     "data": {
      "text/plain": "  serie  correlativo fecha_emision                             cliente  \\\n0  B001        12304    2023-05-01       KAREN DEL PILAR PAREDES ROJAS   \n1  B001        12305    2023-05-01     MEDALITH NAOMI SAMANIEGO FLORES   \n2  B001        12306    2023-05-01               JOSHELIN RAMIREZ VERA   \n3  B001        12307    2023-05-01  JENNY ASHLY GABRIELA MEJIA SANCHEZ   \n4  B001        12308    2023-05-01     ESTEFANY ASHLIN TENORIO CABEZAS   \n\n        dni tipo_doc  total  subtotal    igv   type_sales  \\\n0  47681264        1    180    152.54  27.46  mensualidad   \n1  75508669        1    150    127.12  22.88  mensualidad   \n2  75270716        1    220    186.44  33.56  mensualidad   \n3  47771911        1    150    127.12  22.88  mensualidad   \n4  47594832        1    150    127.12  22.88  mensualidad   \n\n                                      diplomado_name centro_costo  \\\n0  Diplomado en Obstetricia: Auditoría en Salud e...       302234   \n1  Diplomado en Enfermería: Atención de Enfermerí...         None   \n2  Diplomado en Enfermería: Salud Ocupacional en ...       302229   \n3  Diplomado en Enfermería: Enfermería en Emergen...         None   \n4  Diplomado en Enfermería: Auditoría en Salud en...         None   \n\n                                   sunat_description  \n0  La Boleta de Venta numero B001-12304, ha sido ...  \n1  La Boleta de Venta numero B001-12305, ha sido ...  \n2  La Boleta de Venta numero B001-12306, ha sido ...  \n3  La Boleta de Venta numero B001-12307, ha sido ...  \n4  La Boleta de Venta numero B001-12308, ha sido ...  ",
      "text/html": "<div>\n<style scoped>\n    .dataframe tbody tr th:only-of-type {\n        vertical-align: middle;\n    }\n\n    .dataframe tbody tr th {\n        vertical-align: top;\n    }\n\n    .dataframe thead th {\n        text-align: right;\n    }\n</style>\n<table border=\"1\" class=\"dataframe\">\n  <thead>\n    <tr style=\"text-align: right;\">\n      <th></th>\n      <th>serie</th>\n      <th>correlativo</th>\n      <th>fecha_emision</th>\n      <th>cliente</th>\n      <th>dni</th>\n      <th>tipo_doc</th>\n      <th>total</th>\n      <th>subtotal</th>\n      <th>igv</th>\n      <th>type_sales</th>\n      <th>diplomado_name</th>\n      <th>centro_costo</th>\n      <th>sunat_description</th>\n    </tr>\n  </thead>\n  <tbody>\n    <tr>\n      <th>0</th>\n      <td>B001</td>\n      <td>12304</td>\n      <td>2023-05-01</td>\n      <td>KAREN DEL PILAR PAREDES ROJAS</td>\n      <td>47681264</td>\n      <td>1</td>\n      <td>180</td>\n      <td>152.54</td>\n      <td>27.46</td>\n      <td>mensualidad</td>\n      <td>Diplomado en Obstetricia: Auditoría en Salud e...</td>\n      <td>302234</td>\n      <td>La Boleta de Venta numero B001-12304, ha sido ...</td>\n    </tr>\n    <tr>\n      <th>1</th>\n      <td>B001</td>\n      <td>12305</td>\n      <td>2023-05-01</td>\n      <td>MEDALITH NAOMI SAMANIEGO FLORES</td>\n      <td>75508669</td>\n      <td>1</td>\n      <td>150</td>\n      <td>127.12</td>\n      <td>22.88</td>\n      <td>mensualidad</td>\n      <td>Diplomado en Enfermería: Atención de Enfermerí...</td>\n      <td>None</td>\n      <td>La Boleta de Venta numero B001-12305, ha sido ...</td>\n    </tr>\n    <tr>\n      <th>2</th>\n      <td>B001</td>\n      <td>12306</td>\n      <td>2023-05-01</td>\n      <td>JOSHELIN RAMIREZ VERA</td>\n      <td>75270716</td>\n      <td>1</td>\n      <td>220</td>\n      <td>186.44</td>\n      <td>33.56</td>\n      <td>mensualidad</td>\n      <td>Diplomado en Enfermería: Salud Ocupacional en ...</td>\n      <td>302229</td>\n      <td>La Boleta de Venta numero B001-12306, ha sido ...</td>\n    </tr>\n    <tr>\n      <th>3</th>\n      <td>B001</td>\n      <td>12307</td>\n      <td>2023-05-01</td>\n      <td>JENNY ASHLY GABRIELA MEJIA SANCHEZ</td>\n      <td>47771911</td>\n      <td>1</td>\n      <td>150</td>\n      <td>127.12</td>\n      <td>22.88</td>\n      <td>mensualidad</td>\n      <td>Diplomado en Enfermería: Enfermería en Emergen...</td>\n      <td>None</td>\n      <td>La Boleta de Venta numero B001-12307, ha sido ...</td>\n    </tr>\n    <tr>\n      <th>4</th>\n      <td>B001</td>\n      <td>12308</td>\n      <td>2023-05-01</td>\n      <td>ESTEFANY ASHLIN TENORIO CABEZAS</td>\n      <td>47594832</td>\n      <td>1</td>\n      <td>150</td>\n      <td>127.12</td>\n      <td>22.88</td>\n      <td>mensualidad</td>\n      <td>Diplomado en Enfermería: Auditoría en Salud en...</td>\n      <td>None</td>\n      <td>La Boleta de Venta numero B001-12308, ha sido ...</td>\n    </tr>\n  </tbody>\n</table>\n</div>"
     },
     "execution_count": 30,
     "metadata": {},
     "output_type": "execute_result"
    }
   ],
   "source": [
    "df = pd.DataFrame(data)\n",
    "df.head()"
   ],
   "metadata": {
    "collapsed": false,
    "ExecuteTime": {
     "end_time": "2023-06-20T05:18:16.928231200Z",
     "start_time": "2023-06-20T05:18:16.891252800Z"
    }
   }
  },
  {
   "cell_type": "code",
   "execution_count": 74,
   "outputs": [],
   "source": [],
   "metadata": {
    "collapsed": false,
    "ExecuteTime": {
     "end_time": "2023-06-12T06:26:49.850561600Z",
     "start_time": "2023-06-12T06:26:49.830142200Z"
    }
   }
  },
  {
   "cell_type": "code",
   "execution_count": 7,
   "outputs": [
    {
     "data": {
      "text/plain": "(1635, 13)"
     },
     "execution_count": 7,
     "metadata": {},
     "output_type": "execute_result"
    }
   ],
   "source": [
    "df.shape"
   ],
   "metadata": {
    "collapsed": false,
    "ExecuteTime": {
     "end_time": "2023-06-19T15:22:05.820081600Z",
     "start_time": "2023-06-19T15:22:05.793080100Z"
    }
   }
  },
  {
   "cell_type": "code",
   "execution_count": 8,
   "outputs": [
    {
     "name": "stdout",
     "output_type": "stream",
     "text": [
      "<class 'pandas.core.frame.DataFrame'>\n",
      "RangeIndex: 1635 entries, 0 to 1634\n",
      "Data columns (total 13 columns):\n",
      " #   Column             Non-Null Count  Dtype  \n",
      "---  ------             --------------  -----  \n",
      " 0   serie              1635 non-null   object \n",
      " 1   correlativo        1635 non-null   int64  \n",
      " 2   fecha_emision      1635 non-null   object \n",
      " 3   cliente            1635 non-null   object \n",
      " 4   dni                1635 non-null   object \n",
      " 5   tipo_doc           1635 non-null   object \n",
      " 6   total              1635 non-null   int64  \n",
      " 7   subtotal           1635 non-null   float64\n",
      " 8   igv                1635 non-null   float64\n",
      " 9   type_sales         1635 non-null   object \n",
      " 10  diplomado_name     1635 non-null   object \n",
      " 11  centro_costo       345 non-null    object \n",
      " 12  sunat_description  1635 non-null   object \n",
      "dtypes: float64(2), int64(2), object(9)\n",
      "memory usage: 166.2+ KB\n"
     ]
    }
   ],
   "source": [
    "df.info()"
   ],
   "metadata": {
    "collapsed": false,
    "ExecuteTime": {
     "end_time": "2023-06-19T15:22:08.404530200Z",
     "start_time": "2023-06-19T15:22:08.331575100Z"
    }
   }
  },
  {
   "cell_type": "code",
   "execution_count": 17,
   "outputs": [],
   "source": [
    "df.to_excel('D:\\\\jeiner\\\\jeinercastro\\\\datascience\\\\laboratorio1\\\\data\\\\factura_mes_mayo_2023v1.xlsx')"
   ],
   "metadata": {
    "collapsed": false,
    "ExecuteTime": {
     "end_time": "2023-06-19T15:37:06.131579400Z",
     "start_time": "2023-06-19T15:37:06.081607300Z"
    }
   }
  },
  {
   "cell_type": "code",
   "execution_count": 19,
   "outputs": [
    {
     "name": "stdout",
     "output_type": "stream",
     "text": [
      "21272.96\n"
     ]
    }
   ],
   "source": [
    "data =  [2659.12,2659.12, 2659.12, 2659.12, 2659.12, 2659.12, 2659.12, 2659.12]\n",
    "data = round(sum(data), 2)\n",
    "print(data)"
   ],
   "metadata": {
    "collapsed": false,
    "ExecuteTime": {
     "end_time": "2023-06-19T17:18:05.929140400Z",
     "start_time": "2023-06-19T17:18:05.910149700Z"
    }
   }
  }
 ],
 "metadata": {
  "kernelspec": {
   "display_name": "Python 3",
   "language": "python",
   "name": "python3"
  },
  "language_info": {
   "codemirror_mode": {
    "name": "ipython",
    "version": 2
   },
   "file_extension": ".py",
   "mimetype": "text/x-python",
   "name": "python",
   "nbconvert_exporter": "python",
   "pygments_lexer": "ipython2",
   "version": "2.7.6"
  }
 },
 "nbformat": 4,
 "nbformat_minor": 0
}
